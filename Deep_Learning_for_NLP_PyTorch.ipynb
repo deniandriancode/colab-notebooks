{
  "nbformat": 4,
  "nbformat_minor": 0,
  "metadata": {
    "colab": {
      "provenance": [],
      "authorship_tag": "ABX9TyOwjd4aedBZhkJUjmmlQwoN"
    },
    "kernelspec": {
      "name": "python3",
      "display_name": "Python 3"
    },
    "language_info": {
      "name": "python"
    }
  },
  "cells": [
    {
      "cell_type": "code",
      "source": [
        "import torch\n",
        "from torch import autograd\n",
        "from torch import nn\n",
        "from torch import optim\n",
        "import torch.nn.functional as F\n",
        "\n",
        "torch.manual_seed(1)"
      ],
      "metadata": {
        "colab": {
          "base_uri": "https://localhost:8080/"
        },
        "id": "eCSP9mknqabW",
        "outputId": "c24cb793-8d29-46ce-9311-a6aa5b524ca8"
      },
      "execution_count": 15,
      "outputs": [
        {
          "output_type": "execute_result",
          "data": {
            "text/plain": [
              "<torch._C.Generator at 0x78f06c2c3d50>"
            ]
          },
          "metadata": {},
          "execution_count": 15
        }
      ]
    },
    {
      "cell_type": "markdown",
      "source": [
        "# 1. Introduction to Torch's tensor library"
      ],
      "metadata": {
        "id": "slCmoHRpsPpa"
      }
    },
    {
      "cell_type": "code",
      "source": [
        "# creating tensors\n",
        "\n",
        "V_data = [1., 2., 3.]\n",
        "V = torch.Tensor(V_data)\n",
        "print(V)\n",
        "\n",
        "# create a matrix\n",
        "\n",
        "M_data = [[1., 2., 3.], [4., 5., 6.]]\n",
        "M = torch.Tensor(M_data)\n",
        "print(M)\n",
        "\n",
        "# create 3d tensor\n",
        "T_data = [[[1., 2.], [3., 4.],\n",
        "           [5., 6.], [7., 8.]]]\n",
        "T = torch.Tensor(T_data)\n",
        "print(T)"
      ],
      "metadata": {
        "colab": {
          "base_uri": "https://localhost:8080/"
        },
        "id": "OwblEGC6sESB",
        "outputId": "591fa90d-fa16-4cfb-ba30-440e121ad31f"
      },
      "execution_count": 16,
      "outputs": [
        {
          "output_type": "stream",
          "name": "stdout",
          "text": [
            "tensor([1., 2., 3.])\n",
            "tensor([[1., 2., 3.],\n",
            "        [4., 5., 6.]])\n",
            "tensor([[[1., 2.],\n",
            "         [3., 4.],\n",
            "         [5., 6.],\n",
            "         [7., 8.]]])\n"
          ]
        }
      ]
    },
    {
      "cell_type": "code",
      "source": [
        "tmp_tensor = torch.Tensor([[1, 2, 3, 4], [0, 0, 0, 0]])\n",
        "print(tmp_tensor.shape)\n",
        "tmp_tensor = torch.Tensor([[[1, 2, 3],\n",
        "                            [0, 0, 0]]])\n",
        "print(tmp_tensor.shape)"
      ],
      "metadata": {
        "id": "NcQ8s3zOsdbC",
        "colab": {
          "base_uri": "https://localhost:8080/"
        },
        "outputId": "8ff54335-8f7a-4c39-ff47-0576fe57cde3"
      },
      "execution_count": 17,
      "outputs": [
        {
          "output_type": "stream",
          "name": "stdout",
          "text": [
            "torch.Size([2, 4])\n",
            "torch.Size([1, 2, 3])\n"
          ]
        }
      ]
    },
    {
      "cell_type": "code",
      "source": [
        "print(V[0])\n",
        "print(M[0])\n",
        "print(T[0])"
      ],
      "metadata": {
        "id": "cOZ1nK5ytRWw",
        "colab": {
          "base_uri": "https://localhost:8080/"
        },
        "outputId": "1bd91ce1-1234-4e26-84a5-d3e70a5de626"
      },
      "execution_count": 18,
      "outputs": [
        {
          "output_type": "stream",
          "name": "stdout",
          "text": [
            "tensor(1.)\n",
            "tensor([1., 2., 3.])\n",
            "tensor([[1., 2.],\n",
            "        [3., 4.],\n",
            "        [5., 6.],\n",
            "        [7., 8.]])\n"
          ]
        }
      ]
    },
    {
      "cell_type": "code",
      "source": [
        "x = torch.randn(3, 4, 5)\n",
        "print(x)"
      ],
      "metadata": {
        "colab": {
          "base_uri": "https://localhost:8080/"
        },
        "id": "_mms1NfXvWyS",
        "outputId": "97bd3ba8-b71a-46c8-edac-502a47dbdd9e"
      },
      "execution_count": 19,
      "outputs": [
        {
          "output_type": "stream",
          "name": "stdout",
          "text": [
            "tensor([[[-1.5256, -0.7502, -0.6540, -1.6095, -0.1002],\n",
            "         [-0.6092, -0.9798, -1.6091, -0.7121,  0.3037],\n",
            "         [-0.7773, -0.2515, -0.2223,  1.6871,  0.2284],\n",
            "         [ 0.4676, -0.6970, -1.1608,  0.6995,  0.1991]],\n",
            "\n",
            "        [[ 0.8657,  0.2444, -0.6629,  0.8073,  1.1017],\n",
            "         [-0.1759, -2.2456, -1.4465,  0.0612, -0.6177],\n",
            "         [-0.7981, -0.1316,  1.8793, -0.0721,  0.1578],\n",
            "         [-0.7735,  0.1991,  0.0457,  0.1530, -0.4757]],\n",
            "\n",
            "        [[-0.1110,  0.2927, -0.1578, -0.0288,  0.4533],\n",
            "         [ 1.1422,  0.2486, -1.7754, -0.0255, -1.0233],\n",
            "         [-0.5962, -1.0055,  0.4285,  1.4761, -1.7869],\n",
            "         [ 1.6103, -0.7040, -0.1853, -0.9962, -0.8313]]])\n"
          ]
        }
      ]
    },
    {
      "cell_type": "code",
      "source": [
        "# tensor operations\n",
        "x = torch.tensor([1, 2, 3], dtype=torch.float32)\n",
        "y = torch.tensor([4, 5, 6], dtype=torch.float32)\n",
        "z = x + y\n",
        "z"
      ],
      "metadata": {
        "colab": {
          "base_uri": "https://localhost:8080/"
        },
        "id": "Uny5FWmvvdEd",
        "outputId": "f5518814-fec6-4a54-f327-68a6281f6bf5"
      },
      "execution_count": 20,
      "outputs": [
        {
          "output_type": "execute_result",
          "data": {
            "text/plain": [
              "tensor([5., 7., 9.])"
            ]
          },
          "metadata": {},
          "execution_count": 20
        }
      ]
    },
    {
      "cell_type": "code",
      "source": [
        "x_1 = torch.randn(2, 5)\n",
        "y_1 = torch.randn(3, 5)\n",
        "z_1 = torch.cat([x_1, y_1])\n",
        "print(z_1.shape)\n",
        "\n",
        "x_2 = torch.randn(2, 6)\n",
        "y_2 = torch.randn(2, 8)\n",
        "z_2 = torch.cat([x_2, y_2], 1)\n",
        "print(z_2.shape)"
      ],
      "metadata": {
        "colab": {
          "base_uri": "https://localhost:8080/"
        },
        "id": "ZlPT0r9YwNQC",
        "outputId": "f99cc412-0d70-450b-b966-2c93d4c3ce19"
      },
      "execution_count": 21,
      "outputs": [
        {
          "output_type": "stream",
          "name": "stdout",
          "text": [
            "torch.Size([5, 5])\n",
            "torch.Size([2, 14])\n"
          ]
        }
      ]
    },
    {
      "cell_type": "code",
      "source": [
        "# reshaping tensor\n",
        "x = torch.randn(2, 3, 4)\n",
        "print(x.shape)\n",
        "print(x.view(2, 12).shape)\n",
        "print(x.view(2, -1).shape)"
      ],
      "metadata": {
        "colab": {
          "base_uri": "https://localhost:8080/"
        },
        "id": "63sX0e5Uwh2W",
        "outputId": "25ef101a-b212-4878-821f-3d93881dfcc7"
      },
      "execution_count": 22,
      "outputs": [
        {
          "output_type": "stream",
          "name": "stdout",
          "text": [
            "torch.Size([2, 3, 4])\n",
            "torch.Size([2, 12])\n",
            "torch.Size([2, 12])\n"
          ]
        }
      ]
    },
    {
      "cell_type": "markdown",
      "source": [
        "# 2. Computation Graphs and Automatic Differentiation"
      ],
      "metadata": {
        "id": "Ng7x2_E2xTMQ"
      }
    },
    {
      "cell_type": "code",
      "source": [
        "# Variables wrap tensor objects\n",
        "x = autograd.Variable(torch.Tensor([1., 2., 3.]), requires_grad=True)\n",
        "print(x.data)\n",
        "\n",
        "# also can do tensor operation\n",
        "y = autograd.Variable(torch.Tensor([4., 5., 6.]), requires_grad=True)\n",
        "z = x + y\n",
        "print(z.data)\n",
        "\n",
        "# but z knows something extra\n",
        "print(z.grad_fn)"
      ],
      "metadata": {
        "id": "6hwvlMKUxOuI",
        "colab": {
          "base_uri": "https://localhost:8080/"
        },
        "outputId": "d507219e-52cc-432f-9bff-ee5aa526d065"
      },
      "execution_count": 23,
      "outputs": [
        {
          "output_type": "stream",
          "name": "stdout",
          "text": [
            "tensor([1., 2., 3.])\n",
            "tensor([5., 7., 9.])\n",
            "<AddBackward0 object at 0x78f06c2a3e80>\n"
          ]
        }
      ]
    },
    {
      "cell_type": "code",
      "source": [
        "# Lets sum up all the entries in z\n",
        "s = z.sum()\n",
        "print(s)\n",
        "print(s.grad_fn)"
      ],
      "metadata": {
        "colab": {
          "base_uri": "https://localhost:8080/"
        },
        "id": "2K534OPu3xAx",
        "outputId": "7c40fb51-776e-4c0c-8e56-486b3d85f93b"
      },
      "execution_count": 24,
      "outputs": [
        {
          "output_type": "stream",
          "name": "stdout",
          "text": [
            "tensor(21., grad_fn=<SumBackward0>)\n",
            "<SumBackward0 object at 0x78ef9bbc6b00>\n"
          ]
        }
      ]
    },
    {
      "cell_type": "code",
      "source": [
        "s.backward()\n",
        "print(x.grad)"
      ],
      "metadata": {
        "colab": {
          "base_uri": "https://localhost:8080/"
        },
        "id": "CnY9zzgw4DaK",
        "outputId": "8a9a2e8b-f298-4ad0-d872-00326795e010"
      },
      "execution_count": 25,
      "outputs": [
        {
          "output_type": "stream",
          "name": "stdout",
          "text": [
            "tensor([1., 1., 1.])\n"
          ]
        }
      ]
    },
    {
      "cell_type": "code",
      "source": [
        "x = torch.randn((2, 2))\n",
        "y = torch.randn((2, 2))\n",
        "z = x + y\n",
        "\n",
        "var_x = autograd.Variable(x, requires_grad=True)\n",
        "var_y = autograd.Variable(y, requires_grad=True)\n",
        "var_z = var_x + var_y\n",
        "print(var_z.grad_fn)\n",
        "\n",
        "var_z_data = var_z.data\n",
        "new_var_z = autograd.Variable(var_z_data, requires_grad=True)\n",
        "\n",
        "print(new_var_z.grad_fn)"
      ],
      "metadata": {
        "colab": {
          "base_uri": "https://localhost:8080/"
        },
        "id": "M7ipMP1c4u_z",
        "outputId": "dfaa2ced-b5ec-42da-bdc8-8b3039033dea"
      },
      "execution_count": 26,
      "outputs": [
        {
          "output_type": "stream",
          "name": "stdout",
          "text": [
            "<AddBackward0 object at 0x78f06c2e8490>\n",
            "None\n"
          ]
        }
      ]
    },
    {
      "cell_type": "markdown",
      "source": [
        "# 3. Deep Learning Building Blocks: Affine maps, non-linearities and objectives"
      ],
      "metadata": {
        "id": "P9zoiIZt6B-f"
      }
    },
    {
      "cell_type": "code",
      "source": [
        "lin = nn.Linear(5, 3) # maps from R^5 to R^3, parameters A, b\n",
        "data = autograd.Variable( torch.randn(2, 5) ) # data is 2x5.  A maps from 5 to 3... can we map \"data\" under A?\n",
        "print(lin(data)) # yes"
      ],
      "metadata": {
        "id": "IAhp420S5j55",
        "colab": {
          "base_uri": "https://localhost:8080/"
        },
        "outputId": "9e73a340-4f82-4b2d-cd96-28079ba37641"
      },
      "execution_count": 28,
      "outputs": [
        {
          "output_type": "stream",
          "name": "stdout",
          "text": [
            "tensor([[ 0.4724,  0.2742,  0.9672],\n",
            "        [-0.2771, -0.2918,  0.4074]], grad_fn=<AddmmBackward0>)\n"
          ]
        }
      ]
    },
    {
      "cell_type": "code",
      "source": [
        "data = autograd.Variable(torch.randn(2, 2), requires_grad=True)\n",
        "print(data)\n",
        "print(F.relu(data))"
      ],
      "metadata": {
        "colab": {
          "base_uri": "https://localhost:8080/"
        },
        "id": "5hOd7C638fa9",
        "outputId": "d3d85d41-905c-4472-f199-75cf9ade41f7"
      },
      "execution_count": 29,
      "outputs": [
        {
          "output_type": "stream",
          "name": "stdout",
          "text": [
            "tensor([[-1.4105, -0.3404],\n",
            "        [-3.0121,  0.5710]], requires_grad=True)\n",
            "tensor([[0.0000, 0.0000],\n",
            "        [0.0000, 0.5710]], grad_fn=<ReluBackward0>)\n"
          ]
        }
      ]
    },
    {
      "cell_type": "code",
      "source": [
        "# softmax\n",
        "data = autograd.Variable(torch.randn(5), requires_grad=True)\n",
        "print(data)\n",
        "print(F.softmax(data, 0))\n",
        "print(F.softmax(data, 0).sum())\n",
        "print(F.log_softmax(data, 0))"
      ],
      "metadata": {
        "colab": {
          "base_uri": "https://localhost:8080/"
        },
        "id": "aFU_Ucdx8rq0",
        "outputId": "6f275026-0e8d-4b0b-8bc0-5ef8b2c2f6e7"
      },
      "execution_count": 31,
      "outputs": [
        {
          "output_type": "stream",
          "name": "stdout",
          "text": [
            "tensor([ 0.4975,  0.3865, -1.5278,  0.3892, -0.7429], requires_grad=True)\n",
            "tensor([0.3112, 0.2785, 0.0411, 0.2792, 0.0900], grad_fn=<SoftmaxBackward0>)\n",
            "tensor(1., grad_fn=<SumBackward0>)\n",
            "tensor([-1.1673, -1.2784, -3.1927, -1.2757, -2.4078],\n",
            "       grad_fn=<LogSoftmaxBackward0>)\n"
          ]
        }
      ]
    },
    {
      "cell_type": "markdown",
      "source": [
        "# 4. Optimization and Training"
      ],
      "metadata": {
        "id": "3ZG_Big0-HRd"
      }
    },
    {
      "cell_type": "code",
      "source": [
        "\"\"\"\n",
        "there is no code in this section just reading\n",
        "\"\"\""
      ],
      "metadata": {
        "colab": {
          "base_uri": "https://localhost:8080/",
          "height": 35
        },
        "id": "CHBNPM7H9tck",
        "outputId": "322171aa-4760-4b26-aa92-b59bcd8b21a6"
      },
      "execution_count": 32,
      "outputs": [
        {
          "output_type": "execute_result",
          "data": {
            "text/plain": [
              "'\\nthere is no code in this section just reading\\n'"
            ],
            "application/vnd.google.colaboratory.intrinsic+json": {
              "type": "string"
            }
          },
          "metadata": {},
          "execution_count": 32
        }
      ]
    },
    {
      "cell_type": "markdown",
      "source": [
        "# 5. Creating Network Components in Pytorch"
      ],
      "metadata": {
        "id": "3nlc98lm-mO7"
      }
    },
    {
      "cell_type": "code",
      "source": [
        "data = [ (\"me gusta comer en la cafeteria\".split(), \"SPANISH\"),\n",
        "         (\"Give it to me\".split(), \"ENGLISH\"),\n",
        "         (\"No creo que sea una buena idea\".split(), \"SPANISH\"),\n",
        "         (\"No it is not a good idea to get lost at sea\".split(), \"ENGLISH\") ]\n",
        "\n",
        "test_data = [ (\"Yo creo que si\".split(), \"SPANISH\"),\n",
        "              (\"it is lost on me\".split(), \"ENGLISH\")]\n",
        "\n",
        "# word_to_ix maps each word in the vocab to a unique integer, which will be its\n",
        "# index into the Bag of words vector\n",
        "word_to_ix = {}\n",
        "for sent, _ in data + test_data:\n",
        "    for word in sent:\n",
        "        if word not in word_to_ix:\n",
        "            word_to_ix[word] = len(word_to_ix)\n",
        "\n",
        "print(word_to_ix)\n",
        "VOCAB_SIZE = len(word_to_ix)\n",
        "NUM_LABELS = 2"
      ],
      "metadata": {
        "colab": {
          "base_uri": "https://localhost:8080/"
        },
        "id": "4np3ueZh-knS",
        "outputId": "b9e75c05-f490-4f42-8898-f7b1ba791c2c"
      },
      "execution_count": 33,
      "outputs": [
        {
          "output_type": "stream",
          "name": "stdout",
          "text": [
            "{'me': 0, 'gusta': 1, 'comer': 2, 'en': 3, 'la': 4, 'cafeteria': 5, 'Give': 6, 'it': 7, 'to': 8, 'No': 9, 'creo': 10, 'que': 11, 'sea': 12, 'una': 13, 'buena': 14, 'idea': 15, 'is': 16, 'not': 17, 'a': 18, 'good': 19, 'get': 20, 'lost': 21, 'at': 22, 'Yo': 23, 'si': 24, 'on': 25}\n"
          ]
        }
      ]
    },
    {
      "cell_type": "code",
      "source": [
        "class BoWClassifier(nn.Module):\n",
        "    pass"
      ],
      "metadata": {
        "id": "iAU5QYqx_eys"
      },
      "execution_count": null,
      "outputs": []
    }
  ]
}